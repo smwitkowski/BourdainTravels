{
 "cells": [
  {
   "cell_type": "markdown",
   "metadata": {},
   "source": [
    "## Calculating the distance Anthony Bourdain traveled\n",
    "\n",
    "### Data from: https://data.world/makeovermonday/2018w33-anthony-bourdains-travels"
   ]
  },
  {
   "cell_type": "code",
   "execution_count": null,
   "metadata": {},
   "outputs": [],
   "source": [
    "import pandas as pd # Import for data processing\n",
    "import mpu #Import for haversine distance calculation\n",
    "\n",
    "def Calc_Dist(row):\n",
    "    # The haversine distance function calculated the kilometer distance between two points.\n",
    "    distance = mpu.haversine_distance(\n",
    "        (row.Latitude, row.Longitude),\n",
    "        (row.Prev_Latitude, row.Prev_Longitude))\n",
    "    \n",
    "    # Because the distance returned is in kilometes, we have to convert it into miles. I'm rounding it to the 2nd decimal\n",
    "    distance = round(distance * 0.621371, 2)\n",
    "    \n",
    "    return(distance)"
   ]
  },
  {
   "cell_type": "code",
   "execution_count": null,
   "metadata": {},
   "outputs": [],
   "source": [
    "data = pd.read_csv(\"Map_data.csv\")\n",
    "data.head()"
   ]
  },
  {
   "cell_type": "markdown",
   "metadata": {},
   "source": [
    "The data is very thorough and luckily we don't have to do much do shape it.\n",
    "\n",
    "Still, we need two new variables to calculate the haversine distance: the latitude and longitude Bourdain traveled from in the previous episode. We can achive this by using the shift function on our pandas data frame. This function will shift offset the data. Depending on the direction, these are usually refered to as lag or lead variables.\n",
    "\n",
    "In this case, we're going to shift it one row - we're lagging the longitude and lataitude."
   ]
  },
  {
   "cell_type": "code",
   "execution_count": 42,
   "metadata": {},
   "outputs": [
    {
     "data": {
      "text/html": [
       "<div>\n",
       "<style>\n",
       "    .dataframe thead tr:only-child th {\n",
       "        text-align: right;\n",
       "    }\n",
       "\n",
       "    .dataframe thead th {\n",
       "        text-align: left;\n",
       "    }\n",
       "\n",
       "    .dataframe tbody tr th {\n",
       "        vertical-align: top;\n",
       "    }\n",
       "</style>\n",
       "<table border=\"1\" class=\"dataframe\">\n",
       "  <thead>\n",
       "    <tr style=\"text-align: right;\">\n",
       "      <th></th>\n",
       "      <th>Latitude</th>\n",
       "      <th>Longitude</th>\n",
       "      <th>Prev_Latitude</th>\n",
       "      <th>Prev_Longitude</th>\n",
       "    </tr>\n",
       "  </thead>\n",
       "  <tbody>\n",
       "    <tr>\n",
       "      <th>0</th>\n",
       "      <td>35.689487</td>\n",
       "      <td>139.691706</td>\n",
       "      <td>NaN</td>\n",
       "      <td>NaN</td>\n",
       "    </tr>\n",
       "    <tr>\n",
       "      <th>1</th>\n",
       "      <td>35.096276</td>\n",
       "      <td>139.071705</td>\n",
       "      <td>35.689487</td>\n",
       "      <td>139.691706</td>\n",
       "    </tr>\n",
       "    <tr>\n",
       "      <th>2</th>\n",
       "      <td>10.823099</td>\n",
       "      <td>106.629664</td>\n",
       "      <td>35.096276</td>\n",
       "      <td>139.071705</td>\n",
       "    </tr>\n",
       "    <tr>\n",
       "      <th>3</th>\n",
       "      <td>15.933589</td>\n",
       "      <td>103.449284</td>\n",
       "      <td>10.823099</td>\n",
       "      <td>106.629664</td>\n",
       "    </tr>\n",
       "    <tr>\n",
       "      <th>4</th>\n",
       "      <td>11.556374</td>\n",
       "      <td>104.928210</td>\n",
       "      <td>15.933589</td>\n",
       "      <td>103.449284</td>\n",
       "    </tr>\n",
       "  </tbody>\n",
       "</table>\n",
       "</div>"
      ],
      "text/plain": [
       "    Latitude   Longitude  Prev_Latitude  Prev_Longitude\n",
       "0  35.689487  139.691706            NaN             NaN\n",
       "1  35.096276  139.071705      35.689487      139.691706\n",
       "2  10.823099  106.629664      35.096276      139.071705\n",
       "3  15.933589  103.449284      10.823099      106.629664\n",
       "4  11.556374  104.928210      15.933589      103.449284"
      ]
     },
     "execution_count": 42,
     "metadata": {},
     "output_type": "execute_result"
    }
   ],
   "source": [
    "data['Prev_Latitude'] = data.groupby('Show').Latitude.shift(1)\n",
    "data['Prev_Longitude'] = data.groupby('Show').Longitude.shift(1)\n",
    "data[['Latitude', 'Longitude', 'Prev_Latitude', 'Prev_Longitude']].head()"
   ]
  },
  {
   "cell_type": "markdown",
   "metadata": {},
   "source": [
    "You can see, the data's been shifted so we can see what the previous locaiton was. Before we move on, I'm going to shift some other variables that I'll use in the visualization, and create a new variable that counts the number of episodes in that show."
   ]
  },
  {
   "cell_type": "code",
   "execution_count": null,
   "metadata": {},
   "outputs": [],
   "source": [
    "data['Prev_City'] = data.groupby('Show').City.shift(1)\n",
    "data['Prev_State'] = data.groupby('Show').State.shift(1)\n",
    "data['Prev_Country'] = data.groupby('Show').Country.shift(1)\n",
    "data['Episode In Series'] = data.groupby('Show').cumcount() + 1"
   ]
  },
  {
   "cell_type": "markdown",
   "metadata": {},
   "source": [
    "Finally, we are ready to calculate the distance. The funciton we created above will work fine, unless it's the first show in the series. In that case we need to return a 0 since Bourdain hasn't traveled anywhere.\n",
    "\n",
    "We can do this with a simple if statement within a list comprehension. We iterrate over each row of the data, and if the previous longitude is not a number, we return 0, otherwise calculate the distance. The resulting list is a series in our dataframe. Then write the data to a csv, and visualize!"
   ]
  },
  {
   "cell_type": "code",
   "execution_count": 41,
   "metadata": {},
   "outputs": [],
   "source": [
    "data['Distance'] = [0 if np.isnan(row.Prev_Longitude) else Calc_Dist(row) for _, row in data.iterrows()]\n",
    "\n",
    "data.to_csv(\"DataWithDistance.csv\")"
   ]
  }
 ],
 "metadata": {
  "kernelspec": {
   "display_name": "Python 3",
   "language": "python",
   "name": "python3"
  },
  "language_info": {
   "codemirror_mode": {
    "name": "ipython",
    "version": 3
   },
   "file_extension": ".py",
   "mimetype": "text/x-python",
   "name": "python",
   "nbconvert_exporter": "python",
   "pygments_lexer": "ipython3",
   "version": "3.6.1"
  }
 },
 "nbformat": 4,
 "nbformat_minor": 2
}
